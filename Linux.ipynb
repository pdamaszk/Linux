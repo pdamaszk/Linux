{
  "nbformat": 4,
  "nbformat_minor": 0,
  "metadata": {
    "colab": {
      "name": "Linux.ipynb",
      "provenance": [],
      "collapsed_sections": [],
      "toc_visible": true,
      "authorship_tag": "ABX9TyPdftCwv4weDdG88uNXXpnq",
      "include_colab_link": true
    },
    "kernelspec": {
      "name": "python3",
      "display_name": "Python 3"
    },
    "language_info": {
      "name": "python"
    }
  },
  "cells": [
    {
      "cell_type": "markdown",
      "metadata": {
        "id": "view-in-github",
        "colab_type": "text"
      },
      "source": [
        "<a href=\"https://colab.research.google.com/github/pdamaszk/Linux/blob/main/Linux.ipynb\" target=\"_parent\"><img src=\"https://colab.research.google.com/assets/colab-badge.svg\" alt=\"Open In Colab\"/></a>"
      ]
    },
    {
      "cell_type": "markdown",
      "source": [
        "# **Kali Linux**\n",
        "\n",
        "---\n",
        "https://github.com/pdamaszk/Linux.git\n",
        "\n",
        "\n",
        "\n",
        "\n"
      ],
      "metadata": {
        "id": "YfV26e-wOxQZ"
      }
    },
    {
      "cell_type": "markdown",
      "source": [
        "1. Use `id` ang group `id`.\n",
        " ```bash\n",
        "id -u && id -g\n",
        " ```\n",
        "> 1000\\\n",
        "> 1000\n",
        "\n",
        "2. Git\n",
        " ```bash\n",
        "git init <REPOSITORY_NAME>\n",
        "git status\n",
        "git add helli.txt\n",
        "git status\n",
        "git config --global user.name \"pdamaszk\"\n",
        "git config --global user.email \"pdamaszk@gmail.com\"\n",
        "git commit\n",
        "git status\n",
        "git add hello.txt\n",
        "git status\n",
        "git log --oneline\n",
        " ```\n",
        "    > config\n",
        "\n",
        " ```bash\n",
        " git revert f3f7fcf\n",
        " cat hello.txt\n",
        " ```\n",
        "> recover changes before # `f3f7fcf` version\n",
        "\n",
        "  ```bash\n",
        "  git remote add origin https://github.com/pdamaszk/Linux.git\n",
        "  git push origin master\n",
        "  ```\n",
        "  > username:\\\n",
        "  > tocken: \n",
        "\n"
      ],
      "metadata": {
        "id": "WC9-hM7XIVH2"
      }
    },
    {
      "cell_type": "markdown",
      "source": [
        "# Nowa sekcja"
      ],
      "metadata": {
        "id": "l5_cDzbvIMP6"
      }
    }
  ]
}